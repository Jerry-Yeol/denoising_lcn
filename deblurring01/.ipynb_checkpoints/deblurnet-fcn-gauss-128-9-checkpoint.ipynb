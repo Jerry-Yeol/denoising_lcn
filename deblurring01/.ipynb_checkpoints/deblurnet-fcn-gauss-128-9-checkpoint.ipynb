{
 "cells": [
  {
   "cell_type": "code",
   "execution_count": null,
   "metadata": {},
   "outputs": [],
   "source": [
    "import time, cv2, os, sys\n",
    "sys.path.append('..')\n",
    "import numpy as np\n",
    "import tensorflow as tf\n",
    "from utils import *\n",
    "from deblurring_fcn import *\n",
    "from matplotlib import pyplot as plt\n",
    "%matplotlib inline"
   ]
  },
  {
   "cell_type": "code",
   "execution_count": null,
   "metadata": {},
   "outputs": [],
   "source": [
    "\n",
    "tmp = np.load('/data1/jerry/project/deblurring/data/same_sig/data_128_easy_9_edit.npz')\n",
    "\n",
    "img = tmp['data']\n",
    "lab = tmp['label']\n",
    "#shuf_seq = np.random.choice(len(img), len(img), replace=False)\n",
    "th = int(len(img)*0.8)\n",
    "img = np.reshape(img, [img.shape[0], img.shape[1], img.shape[2], 1])\n",
    "tr_img = img[:th]\n",
    "te_img = img[th:]\n",
    "\n",
    "lab = np.reshape(lab, [lab.shape[0], lab.shape[1], lab.shape[2], 1])\n",
    "tr_lab = lab[:th]\n",
    "te_lab = lab[th:]\n",
    "\n",
    "del tmp, img\n",
    "\n",
    "print('Input Size : %s'%str(tr_img.shape))\n",
    "print('Label Size : %s'%str(tr_lab.shape))\n",
    "\n",
    "print('Input Size : %s'%str(te_img.shape))\n",
    "print('Label Size : %s'%str(te_lab.shape))\n"
   ]
  },
  {
   "cell_type": "code",
   "execution_count": null,
   "metadata": {},
   "outputs": [],
   "source": [
    "with tf.Session() as sess:\n",
    "    deblur = Model(sess, \"deblur\", 128, 0.0001)\n",
    "    sess.run(tf.global_variables_initializer())\n",
    "    saver = tf.train.Saver()\n",
    "    saver.restore(sess, '/data1/jerry/project/deblurring/checkpoint/deblurring_fcn_gauss/128/gaussian_edit_9')\n",
    "    asd = deblur.predict(te_img)"
   ]
  },
  {
   "cell_type": "code",
   "execution_count": null,
   "metadata": {
    "scrolled": true
   },
   "outputs": [],
   "source": [
    "for num in np.random.choice(len(asd), 30, replace=False):\n",
    "    plt.figure(figsize=(12,8))\n",
    "    plt.subplot(141)\n",
    "    plt.title(\"Input\")\n",
    "    plt.imshow(te_img[num, :,:, 0], cmap=plt.cm.bone)\n",
    "    plt.subplot(142)\n",
    "    plt.title(\"Inference\")\n",
    "    plt.imshow(asd[num,:,:,0], cmap=plt.cm.bone)\n",
    "    plt.subplot(143)\n",
    "    plt.title(\"Label\")\n",
    "    plt.imshow(te_lab[num,:,:,0], cmap=plt.cm.bone)\n",
    "    plt.subplot(144)\n",
    "    plt.title(\"Subtract\")\n",
    "    plt.imshow(te_lab[num,:,:,0]-asd[num,:,:,0], cmap=plt.cm.bone)\n",
    "    plt.show()"
   ]
  },
  {
   "cell_type": "code",
   "execution_count": null,
   "metadata": {},
   "outputs": [],
   "source": []
  }
 ],
 "metadata": {
  "kernelspec": {
   "display_name": "Python 3",
   "language": "python",
   "name": "python3"
  },
  "language_info": {
   "codemirror_mode": {
    "name": "ipython",
    "version": 3
   },
   "file_extension": ".py",
   "mimetype": "text/x-python",
   "name": "python",
   "nbconvert_exporter": "python",
   "pygments_lexer": "ipython3",
   "version": "3.5.2"
  }
 },
 "nbformat": 4,
 "nbformat_minor": 2
}
